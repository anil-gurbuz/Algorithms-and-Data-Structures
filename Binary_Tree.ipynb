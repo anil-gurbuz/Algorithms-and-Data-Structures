{
 "cells": [
  {
   "cell_type": "code",
   "execution_count": 7,
   "metadata": {},
   "outputs": [],
   "source": [
    "class BinaryTree:\n",
    "    def __init__(self,key):\n",
    "        self.key = key\n",
    "        self.leftChild= None\n",
    "        self.rightchild= None\n",
    "        \n",
    "        \n",
    "    def __str__(self):\n",
    "        return str(self.key)\n",
    "    \n",
    "    \n",
    "    def setLeftChild(self,leftchild):\n",
    "        self.leftChild= leftchild\n",
    "        \n",
    "    def setRightChild(self,rightchild):\n",
    "        self.rightChild = rightchild\n",
    "        \n",
    "    def getLeftChild(self):\n",
    "        return self.leftChild\n",
    "    \n",
    "    def getRightChild(self):\n",
    "        return self.rightchild\n",
    "    \n",
    "    def hasLeftChild(self):\n",
    "        return self.leftChild != None\n",
    "    \n",
    "    def hasRightChild(self):\n",
    "        return self.rightchild != None\n",
    "    \n",
    "    "
   ]
  },
  {
   "cell_type": "code",
   "execution_count": 8,
   "metadata": {},
   "outputs": [],
   "source": [
    "from collections import deque\n",
    "\n",
    "def iterativeBFS(t):\n",
    "    q=deque()\n",
    "    q.appendleft(t)\n",
    "    \n",
    "    while len(q) >0:\n",
    "        node = q.pop()\n",
    "        print(node)\n",
    "        \n",
    "        if node.hasLeftChild():\n",
    "            q.appendleft(node.getLeftChild())\n",
    "        if node.hasRightChild():\n",
    "            q.appendleft(node.getRightChild())\n",
    "        \n",
    "    \n",
    "    \n",
    "    \n",
    "    \n",
    "    \n",
    "\n"
   ]
  },
  {
   "cell_type": "code",
   "execution_count": 9,
   "metadata": {},
   "outputs": [],
   "source": [
    "def iterativeDFS(t):\n",
    "    stack=[]\n",
    "    stack.append(t)\n",
    "    \n",
    "    while len(stack)>0:\n",
    "        node=stack.pop()\n",
    "        print(node)\n",
    "        if node.hasRightChild():\n",
    "            stack.append(node.getRightChild())\n",
    "        if node.hasLeftChild():\n",
    "            stack.append(node.getLeftChild())\n",
    "            "
   ]
  },
  {
   "cell_type": "code",
   "execution_count": 10,
   "metadata": {},
   "outputs": [],
   "source": [
    "def recursivePreOrdered(t):\n",
    "    print(t)\n",
    "    if t.hasLeftChild():\n",
    "        recursivePreOrdered(t.getLeftChild())\n",
    "    if t.hasRightChild():\n",
    "        recursivePreOrdered(t.getRightChild())"
   ]
  },
  {
   "cell_type": "code",
   "execution_count": 11,
   "metadata": {},
   "outputs": [],
   "source": [
    "def recursiveInordere(t):\n",
    "    if t.hasLeftChild():\n",
    "        recursiveInordere(t.getLeftChild())\n",
    "        \n",
    "    print(t)\n",
    "    \n",
    "    if t.hasRightChild():\n",
    "        recursiveInordere(t.getRightChild())\n",
    "        \n",
    "        "
   ]
  },
  {
   "cell_type": "code",
   "execution_count": 12,
   "metadata": {},
   "outputs": [],
   "source": [
    "def recursivePostordere(t):\n",
    "    if t.hasLeftChild():\n",
    "        recursiveInordere(t.getLeftChild())\n",
    "        \n",
    "\n",
    "    \n",
    "    if t.hasRightChild():\n",
    "        recursiveInordere(t.getRightChild())\n",
    "\n",
    "    print(t)   "
   ]
  },
  {
   "cell_type": "code",
   "execution_count": 13,
   "metadata": {},
   "outputs": [],
   "source": [
    "def height(tree):\n",
    "    if tree.leftChild == None and tree.rightChild == None:\n",
    "        return 0\n",
    "    \n",
    "    return 1+ max(height(tree.leftChild) , height(tree.rightChild))\n",
    "\n",
    "\n",
    "\n",
    "def diameter(tree):\n",
    "    \n",
    "    if tree == None:\n",
    "        return 0\n",
    "    \n",
    "    \n",
    "    return max((height(tree.leftChild)+height(tree.rightChild)+1),max(diameter(tree.leftChild),diameter(tree.rightChild)))\n",
    "\n",
    "\n",
    "\n",
    "        "
   ]
  },
  {
   "cell_type": "code",
   "execution_count": 15,
   "metadata": {},
   "outputs": [],
   "source": [
    "a=BinaryTree(3)"
   ]
  },
  {
   "cell_type": "code",
   "execution_count": null,
   "metadata": {},
   "outputs": [],
   "source": []
  }
 ],
 "metadata": {
  "kernelspec": {
   "display_name": "Python 3",
   "language": "python",
   "name": "python3"
  },
  "language_info": {
   "codemirror_mode": {
    "name": "ipython",
    "version": 3
   },
   "file_extension": ".py",
   "mimetype": "text/x-python",
   "name": "python",
   "nbconvert_exporter": "python",
   "pygments_lexer": "ipython3",
   "version": "3.6.4"
  }
 },
 "nbformat": 4,
 "nbformat_minor": 2
}
