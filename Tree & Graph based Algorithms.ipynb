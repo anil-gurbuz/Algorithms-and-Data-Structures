{
 "cells": [
  {
   "cell_type": "markdown",
   "metadata": {},
   "source": [
    "# Instructions\n",
    "* You must work on this assignment individually. We check for similarities and find collusion cases every semester. You've been warned!\n",
    "* This assignment contributes 20% towards your final mark in FIT5211.\n",
    "* The subjects are sorting, trees and dynamic programming.\n",
    "* The exercises are roughly given by increasing difficulty. Obtaining a 100% mark may be very hard, depending on your background, and will probably take many hours. The assignment is written such that everyone can correctly complete the first exercises, but it is likely that the last ones will only be succesfully completed by few.\n",
    "* You are expected to comment your code. Marks will be removed if your code is insufficiently documented.\n",
    "* You may create auxiliary/helper functions for each question, as long as you use the pre-defined functions, if any is given.\n",
    "* Unit tests have only been provided for Exercise 1. You will need to write your own tests when they are not provided. \n",
    "* The expected deliverable is this Jupyter Notebook, completed with your answers.\n",
    "* For questions on this assigment, please use the [Moodle forum](https://moodle.vle.monash.edu/mod/forum/view.php?id=5193080).\n",
    "* The deadline is October 19, 23:55, submission via [Moodle](https://moodle.vle.monash.edu/course/view.php?id=45761&section=5#5). If this does not work, and only in this case, send your Notebook to pierre.lebodic@monash.edu.\n",
    "* The late penalty is 10 marks (deducted from your original mark) per late day.\n",
    "* Have fun!"
   ]
  },
  {
   "cell_type": "markdown",
   "metadata": {},
   "source": [
    "# Exercise 1: Sorting Lists of Pairs (45 marks)"
   ]
  },
  {
   "cell_type": "markdown",
   "metadata": {},
   "source": [
    "(Note that in this exercise, questions may be attempted without having completed all previous questions)"
   ]
  },
  {
   "cell_type": "markdown",
   "metadata": {},
   "source": [
    "Consider the abstract Python class below:"
   ]
  },
  {
   "cell_type": "code",
   "execution_count": 1,
   "metadata": {},
   "outputs": [],
   "source": [
    "class Comparison:\n",
    "    def __init__(self):\n",
    "        pass\n",
    "    \n",
    "    #returns True if the two objects are comparable,\n",
    "    #False otherwise\n",
    "    def areComparable(self, other):\n",
    "        raise Exception(\"NotImplementedException\")\n",
    "        \n",
    "    #returns True if the two objects are equal,\n",
    "    #False otherwise\n",
    "    def __eq__(self, other):\n",
    "        raise Exception(\"NotImplementedException\")\n",
    "   \n",
    "    #returns True if self > other,\n",
    "    #False otherwise\n",
    "    def __gt__(self, other):\n",
    "        raise Exception(\"NotImplementedException\")\n",
    "        \n",
    "    #returns True if self < other,\n",
    "    #False otherwise\n",
    "    def __lt__(self, other):\n",
    "        raise Exception(\"NotImplementedException\")    \n",
    "        \n",
    "    def __ne__(self, other):\n",
    "        return not self.__eq__(other)\n",
    "                \n",
    "    def __ge__(self, other):\n",
    "        return self.__eq__(other) or self.__gt__(other)\n",
    "\n",
    "    def __le__(self, other):\n",
    "        return self.__eq__(other) or self.__lt__(other)\n",
    "        \n",
    "    def compare(self, other):\n",
    "        if self.areComparable(other) is False:\n",
    "            return None\n",
    "        elif self == other:\n",
    "            return 0\n",
    "        elif self < other:\n",
    "            return -1\n",
    "        elif self > other:\n",
    "            return 1\n",
    "        else:\n",
    "            assert False, \"Inconsistent operation definitions\""
   ]
  },
  {
   "cell_type": "markdown",
   "metadata": {},
   "source": [
    "The Comparison class provides a way to model items that are not always comparable. For instance, the pair of integers $(5, 10)$ is greater than $(4, 8)$, but it is not comparable to $(6, 5)$, because $5 < 6$ and $10 > 5$."
   ]
  },
  {
   "cell_type": "markdown",
   "metadata": {},
   "source": [
    "In this exercise, we will look into different ways to sort list of pairs. We will suppose that the pairs in a list are all different.  "
   ]
  },
  {
   "cell_type": "markdown",
   "metadata": {},
   "source": [
    "## Question 1.1 (10 marks)"
   ]
  },
  {
   "cell_type": "markdown",
   "metadata": {},
   "source": [
    "The rules of comparison between two Pairs $(a, b)$ and $(c, d)$ are:\n",
    "* $(a, b) == (c, d)$ if and only if $a == c$ and $b == d$,\n",
    "* $(a, b) > (c, d)$ if and only if ($a > c$ and $b \\geq d$) or ($a \\geq c$ and $b > d$),\n",
    "* $(a, b) < (c, d)$ if and only if ($a < c$ and $b \\leq d$) or ($a \\leq c$ and $b < d$).\n",
    "\n",
    "We say that $(a, b)$ and $(c, d)$ are comparable if \n",
    "* $(a, b) == (c, d)$, or\n",
    "* $(a, b) > (c, d)$, or\n",
    "* $(a, b) < (c, d)$.\n",
    "\n",
    "We ask that you implement the rules above in the class called Pair below, by completing the functions that have a comment \"#TODO\" in the body. Note that the class Pair inherits from Comparison."
   ]
  },
  {
   "cell_type": "code",
   "execution_count": 2,
   "metadata": {},
   "outputs": [],
   "source": [
    "class Pair(Comparison):\n",
    "    def __init__(self, x, y):\n",
    "        self.x = x\n",
    "        self.y = y\n",
    "    \n",
    "    def __str__(self):\n",
    "        return \"({},{})\".format(self.x, self.y)\n",
    "        \n",
    "    def areComparable(self, other):\n",
    "        if (self.x >= other.x and self.y >= other.y):\n",
    "            return True\n",
    "        \n",
    "        if (self.x<= other.x and self.y<= other.y):\n",
    "            return True\n",
    "        \n",
    "        return False\n",
    "        \n",
    "\n",
    "        \n",
    "        \n",
    "    def __eq__(self, other):\n",
    "        \n",
    "        return (self.x == other.x and self.y == other.y)\n",
    "    \n",
    "    \n",
    "    def __gt__(self, other):\n",
    "  \n",
    "        if (self.x >= other.x and self.y > other.y) or (self.x > other.x and self.y>= other.y):\n",
    "            return True\n",
    "        else:\n",
    "            return False\n",
    "        \n",
    "\n",
    "        \n",
    "    def __lt__(self, other):\n",
    "        \n",
    "        if (self.x <= other.x and self.y < other.y) or (self.x < other.x and self.y<= other.y):\n",
    "            return True\n",
    "        else:\n",
    "            return False\n",
    "        "
   ]
  },
  {
   "cell_type": "markdown",
   "metadata": {},
   "source": [
    "We provide a test class below. You don't need to edit it, but the class Pair you write need pass these tests! "
   ]
  },
  {
   "cell_type": "code",
   "execution_count": 3,
   "metadata": {},
   "outputs": [],
   "source": [
    "import unittest\n",
    "\n",
    "class TestPair(unittest.TestCase):\n",
    "    def setUp(self):\n",
    "        self.v00 = Pair(0,0)\n",
    "        self.v01 = Pair(0,1)\n",
    "        self.v10 = Pair(1, 0)\n",
    "        self.v11 = Pair(1, 1)\n",
    "        self.v21 = Pair(2, 1)\n",
    "        self.v31 = Pair(3, 1)\n",
    "        self.v23 = Pair(2, 3)\n",
    "        self.v23other = Pair(2, 3)\n",
    "        \n",
    "    def test_areComparable(self):\n",
    "        self.assertTrue(self.v00.areComparable(self.v01))\n",
    "        self.assertTrue(self.v01.areComparable(self.v00))\n",
    "        \n",
    "        self.assertTrue(self.v11.areComparable(self.v00))\n",
    "        self.assertTrue(self.v00.areComparable(self.v11))\n",
    "        \n",
    "        self.assertTrue(self.v21.areComparable(self.v23))\n",
    "        self.assertTrue(self.v23.areComparable(self.v21))\n",
    "        \n",
    "        self.assertTrue(self.v23.areComparable(self.v23))\n",
    "        \n",
    "        self.assertTrue(self.v23.areComparable(self.v23other))\n",
    "        self.assertTrue(self.v23other.areComparable(self.v23))\n",
    "        \n",
    "        self.assertFalse(self.v01.areComparable(self.v10))\n",
    "        self.assertFalse(self.v10.areComparable(self.v01))\n",
    "        \n",
    "        self.assertFalse(self.v31.areComparable(self.v23))\n",
    "        self.assertFalse(self.v23.areComparable(self.v31))\n",
    "        \n",
    "    def test_eq(self):\n",
    "        self.assertTrue(self.v00 == self.v00)\n",
    "        self.assertTrue(self.v21 == self.v21)\n",
    "        self.assertTrue(self.v23 == self.v23)\n",
    "        self.assertTrue(self.v23 == self.v23other)\n",
    "        \n",
    "        self.assertFalse(self.v00 == self.v11)\n",
    "        self.assertFalse(self.v21 == self.v11)\n",
    "        self.assertFalse(self.v21 == self.v23)\n",
    "        \n",
    "    def test_ne(self):\n",
    "        self.assertFalse(self.v00 != self.v00)\n",
    "        self.assertFalse(self.v21 != self.v21)\n",
    "        self.assertFalse(self.v23 != self.v23)\n",
    "        self.assertFalse(self.v23 != self.v23other)\n",
    "        \n",
    "        self.assertTrue(self.v00 != self.v11)\n",
    "        self.assertTrue(self.v21 != self.v11)\n",
    "        self.assertTrue(self.v21 != self.v23)\n",
    "        \n",
    "    def test_gt(self):\n",
    "        self.assertTrue(self.v01 > self.v00)\n",
    "        self.assertTrue(self.v10 > self.v00)\n",
    "        self.assertTrue(self.v31 > self.v21)\n",
    "        \n",
    "        self.assertFalse(self.v00 > self.v01)\n",
    "        self.assertFalse(self.v00 > self.v01)\n",
    "        self.assertFalse(self.v21 > self.v31)\n",
    "        \n",
    "        self.assertFalse(self.v10 > self.v01)\n",
    "        self.assertFalse(self.v01 > self.v10)\n",
    "        self.assertFalse(self.v31 > self.v23)\n",
    "        self.assertFalse(self.v23 > self.v31)\n",
    "        \n",
    "    def test_lt(self):\n",
    "        self.assertFalse(self.v01 < self.v00)\n",
    "        self.assertFalse(self.v10 < self.v00)\n",
    "        self.assertFalse(self.v31 < self.v21)\n",
    "        \n",
    "        self.assertTrue(self.v00 < self.v01)\n",
    "        self.assertTrue(self.v00 < self.v01)\n",
    "        self.assertTrue(self.v21 < self.v31)\n",
    "        \n",
    "        self.assertFalse(self.v10 < self.v01)\n",
    "        self.assertFalse(self.v01 < self.v10)\n",
    "        self.assertFalse(self.v31 < self.v23)\n",
    "        self.assertFalse(self.v23 < self.v31)"
   ]
  },
  {
   "cell_type": "code",
   "execution_count": 4,
   "metadata": {},
   "outputs": [
    {
     "name": "stderr",
     "output_type": "stream",
     "text": [
      ".....\n",
      "----------------------------------------------------------------------\n",
      "Ran 5 tests in 0.005s\n",
      "\n",
      "OK\n"
     ]
    },
    {
     "data": {
      "text/plain": [
       "<unittest.runner.TextTestResult run=5 errors=0 failures=0>"
      ]
     },
     "execution_count": 4,
     "metadata": {},
     "output_type": "execute_result"
    }
   ],
   "source": [
    "test = TestPair()\n",
    "suite = unittest.TestLoader().loadTestsFromModule(test)\n",
    "unittest.TextTestRunner().run(suite)"
   ]
  },
  {
   "cell_type": "markdown",
   "metadata": {},
   "source": [
    "In the following questions, we suppose that we have a set of Pairs, and that not every two pairs in that set are comparable."
   ]
  },
  {
   "cell_type": "markdown",
   "metadata": {},
   "source": [
    "## Question 1.2 (10 marks)"
   ]
  },
  {
   "cell_type": "markdown",
   "metadata": {},
   "source": [
    "Given a list $l$ of Pairs in no particular order, use a sorting algorithm similar to *selection sort* to sort $l$ such that, at the end of the algorithm, for every two pairs $l[i]=(a, b)$ and $l[j]=(c, d)$ at index $i$ and $j$ in $l$, respectively, with $i <j$, we have:\n",
    "* either $(a, b) \\leq (c, d)$,\n",
    "* or $(a, b)$ and $(c, d)$ are not comparable."
   ]
  },
  {
   "cell_type": "code",
   "execution_count": 5,
   "metadata": {},
   "outputs": [],
   "source": [
    "def pairSort(l):\n",
    "    n = len(l)\n",
    "    \n",
    "    for change_pos in range(n-1,0,-1):\n",
    "        biggest_pos = 0\n",
    "        \n",
    "        for check_pos in range(1,change_pos+1):\n",
    "            \n",
    "            if l[check_pos] > l[biggest_pos]:\n",
    "                biggest_pos = check_pos\n",
    "        \n",
    "        l[biggest_pos] , l[change_pos] = l[change_pos] , l[biggest_pos]\n",
    "\n",
    "    \n",
    "    \n",
    "    \n",
    "    "
   ]
  },
  {
   "cell_type": "markdown",
   "metadata": {},
   "source": [
    "Again, we provide a test class below. You don't need to edit it, but the method pairsort you wrote needs to pass these tests! "
   ]
  },
  {
   "cell_type": "code",
   "execution_count": 6,
   "metadata": {},
   "outputs": [],
   "source": [
    "import unittest\n",
    "import random\n",
    "\n",
    "class TestPairSort(unittest.TestCase):\n",
    "    def setUp(self):\n",
    "        self.PairClass = Pair\n",
    "        self.sortAlgo = pairSort\n",
    "    \n",
    "    def test1(self):\n",
    "        #in this test we suppose x=0 for all entries\n",
    "        #this means that the algorithm should do a regular bubble sort\n",
    "        #we also suppose everything is already ordered\n",
    "        l = [self.PairClass(0, 1), self.PairClass(0, 3), self.PairClass(0, 4), self.PairClass(0, 6), \n",
    "            self.PairClass(0, 8), self.PairClass(0, 15), ]\n",
    "        self.sortAlgo(l)\n",
    "        #for item in l: print(item)\n",
    "        self.checkorder(l)\n",
    "            \n",
    "    def test2(self):\n",
    "        #in this test we suppose x=0 for all entries\n",
    "        #this means that the sort algorithms should do a \"regular\" sort\n",
    "        l = [self.PairClass(0, 8), self.PairClass(0, 4), self.PairClass(0, 3), self.PairClass(0, 9), \n",
    "            self.PairClass(0, 10), self.PairClass(0, 5), ]\n",
    "        self.sortAlgo(l)\n",
    "        #for item in l: print(item)\n",
    "        self.checkorder(l)\n",
    "\n",
    "            \n",
    "    def test3(self):\n",
    "        #in this test we suppose x and y are not fixed\n",
    "        #we also suppose that everything is in a good order\n",
    "        l = [self.PairClass(5, 8), self.PairClass(5, 10), self.PairClass(6, 10), self.PairClass(7, 12), \n",
    "            self.PairClass(5, 12), self.PairClass(9, 12), ]\n",
    "        self.sortAlgo(l)\n",
    "        #for item in l: print(item)\n",
    "        self.checkorder(l)\n",
    "        \n",
    "    def test4(self):\n",
    "        #in this test we suppose x and y are not fixed\n",
    "        #we suppose there is no two pairs that are comparable\n",
    "        l = [self.PairClass(8, 8), self.PairClass(5, 10), self.PairClass(10, 8), self.PairClass(12, 5)]\n",
    "        self.sortAlgo(l)\n",
    "        #for item in l: print(item)\n",
    "        self.checkorder(l)\n",
    "        \n",
    "    def test5(self):\n",
    "        #in this test we suppose x and y are not fixed\n",
    "        #the input is in arbitrary order\n",
    "        #we only test one case\n",
    "        l = [self.PairClass(5, 8), self.PairClass(10, 10), self.PairClass(12, 5), self.PairClass(9, 5),\n",
    "             self.PairClass(5, 10), self.PairClass(7, 2), self.PairClass(6, 10) ]\n",
    "        self.sortAlgo(l)\n",
    "        #for item in l: print(item)\n",
    "        self.checkorder(l)\n",
    "    \n",
    "    def test6(self):\n",
    "        #in this test we suppose x and y are not fixed\n",
    "        #the input is in arbitrary order\n",
    "        #we generate many cases\n",
    "        for size in range(0, 100):\n",
    "            #create a list\n",
    "            l = []\n",
    "            xs = random.sample(range(0, 100), size)\n",
    "            xy = random.sample(range(0, 100), size)\n",
    "            for i in range(0, size):\n",
    "                l.append(self.PairClass(xs[i], xy[i]))\n",
    "            self.sortAlgo(l)\n",
    "            #for item in l: print(item)\n",
    "            self.checkorder(l)\n",
    "        \n",
    "    def checkorder(self, l):\n",
    "        for i in range(0, len(l)-1):\n",
    "            for j in range(i, len(l)-1):\n",
    "                if l[i].areComparable(l[j]):\n",
    "                    self.assertTrue(l[i] <= l[j], \"{} and {} are not well ordered\".format(l[i], l[j]) )"
   ]
  },
  {
   "cell_type": "code",
   "execution_count": 7,
   "metadata": {},
   "outputs": [
    {
     "name": "stderr",
     "output_type": "stream",
     "text": [
      "......\n",
      "----------------------------------------------------------------------\n",
      "Ran 6 tests in 0.379s\n",
      "\n",
      "OK\n"
     ]
    },
    {
     "data": {
      "text/plain": [
       "<unittest.runner.TextTestResult run=6 errors=0 failures=0>"
      ]
     },
     "execution_count": 7,
     "metadata": {},
     "output_type": "execute_result"
    }
   ],
   "source": [
    "test = TestPairSort()\n",
    "suite = unittest.TestLoader().loadTestsFromModule(test)\n",
    "unittest.TextTestRunner().run(suite)"
   ]
  },
  {
   "cell_type": "markdown",
   "metadata": {},
   "source": [
    "## Question 1.3 (5 marks)"
   ]
  },
  {
   "cell_type": "markdown",
   "metadata": {},
   "source": [
    "Suppose we have a list of Pairs of integers.\n",
    "We want to implement a comparison mechanism between two pairs of integers using a function **pairKey**, which takes a pair as input and outputs a single number. The function pairKey should be such that for two pairs $(a, b)$ and $(c, d)$,\n",
    "* $(a,b) > (c,d)$ implies $pairKey((a,b)) > pairKey((c,d))$,\n",
    "* $(a,b) < (c,d)$ implies $pairKey((a,b)) < pairKey((c,d))$,\n",
    "* $(a,b) == (c,d)$ implies $pairKey((a,b)) == pairKey((c,d))$."
   ]
  },
  {
   "cell_type": "code",
   "execution_count": 8,
   "metadata": {},
   "outputs": [],
   "source": [
    "def pairKey(pair): # If we add x and y values of a pair\n",
    "                    # It will always give a bigger value for a bigger pair\n",
    "                    # smaller value for a smaller pair and equal value for equal pair\n",
    "                    # For uncomparable ones , result can be anything.\n",
    "    return pair.x + pair.y"
   ]
  },
  {
   "cell_type": "markdown",
   "metadata": {},
   "source": [
    "If you have defined the function pairKey correctly, we should now be able to use the built-in sort function of Python to sort our Pairs:"
   ]
  },
  {
   "cell_type": "code",
   "execution_count": 9,
   "metadata": {},
   "outputs": [],
   "source": [
    "def pairSortWithKey(l):\n",
    "    l.sort(key = pairKey)"
   ]
  },
  {
   "cell_type": "markdown",
   "metadata": {},
   "source": [
    "(For more information on what the above does, please refer to https://docs.python.org/3/howto/sorting.html)"
   ]
  },
  {
   "cell_type": "code",
   "execution_count": 10,
   "metadata": {},
   "outputs": [],
   "source": [
    "class TestKeyPairSort(TestPairSort):\n",
    "    def setUp(self):\n",
    "        self.PairClass = Pair\n",
    "        self.sortAlgo = pairSortWithKey"
   ]
  },
  {
   "cell_type": "code",
   "execution_count": 11,
   "metadata": {},
   "outputs": [
    {
     "name": "stderr",
     "output_type": "stream",
     "text": [
      "......\n",
      "----------------------------------------------------------------------\n",
      "Ran 6 tests in 0.290s\n",
      "\n",
      "OK\n"
     ]
    },
    {
     "data": {
      "text/plain": [
       "<unittest.runner.TextTestResult run=6 errors=0 failures=0>"
      ]
     },
     "execution_count": 11,
     "metadata": {},
     "output_type": "execute_result"
    }
   ],
   "source": [
    "test = TestKeyPairSort()\n",
    "suite = unittest.TestLoader().loadTestsFromModule(test)\n",
    "unittest.TextTestRunner().run(suite)"
   ]
  },
  {
   "cell_type": "markdown",
   "metadata": {},
   "source": [
    "## Question 1.4 (5 marks)"
   ]
  },
  {
   "cell_type": "markdown",
   "metadata": {},
   "source": [
    "Prove that the pairKey function you have defined above provides a guarantee that, if used as key for Python's sort, then the list will be sorted as stated in Queston 1.2."
   ]
  },
  {
   "cell_type": "markdown",
   "metadata": {},
   "source": [
    "Question 1.2 gives 2 rules to obey while sorting;\n",
    "\n",
    "For any of the pair $(a,b)$ in $l$\n",
    "$l[i]=(a, b)$ and $l[j]=(c, d)$ at index $i$ and $j$ in $l$, respectively, with $i <j$\n",
    "\n",
    "* 1-) either $(a, b) \\leq (c, d)$,\n",
    "* 2-) or $(a, b)$ and $(c, d)$ are not comparable.\n",
    "\n",
    "If we summarise these 2 rules in one , it becomes as follows;\n",
    "\n",
    "\n",
    "- There can't be any $(c,d) < (a,b)$ \n",
    "\n",
    "if $(c,d) < (a,b)$ , 2 cases possible;\n",
    "\n",
    "1-) $c <= a$ and $d < b$  ----> pairKey(c,d) = c+d  < pairkey(a,b) = a+b\n",
    "\n",
    "2-) $c < a$ and $d <= b$  ----> pairKey(c,d) = c+d  < pairkey(a,b) = a+b\n",
    "\n",
    "Therefore;\n",
    "if a pair is smaller than the other our pairKey function will always return a smaller value and that's why Python's sort function will not put the small one in a bigger index which is the only condition needed to be satisfied by q1.2"
   ]
  },
  {
   "cell_type": "markdown",
   "metadata": {},
   "source": [
    "## Question 1.5 (5 marks)"
   ]
  },
  {
   "cell_type": "markdown",
   "metadata": {},
   "source": [
    "(We have *not* covered the concept of stability in this unit. If you are not yet familiar with this concept, learning about it is part of the question. See e.g. [here](https://en.wikipedia.org/wiki/Sorting_algorithm#Stability) to start.)\n",
    "\n",
    "In this question we ask you to use Python's built-in sort. Use the fact that Python's sort is stable to provide a simple solution to sort a list of pairs as stated in Question 1.2. Use unit testing as in the previous questions to test your solution. Both your solution and the unit testing will be assessed. (no need to rewrite *new* test cases; use the old ones)."
   ]
  },
  {
   "cell_type": "code",
   "execution_count": 12,
   "metadata": {},
   "outputs": [],
   "source": [
    "def pairSortUsingStability(l):\n",
    "    l.sort(key=(lambda x: (x.x , x.y)))  "
   ]
  },
  {
   "cell_type": "code",
   "execution_count": 13,
   "metadata": {},
   "outputs": [],
   "source": [
    "class TestPairSortUsingStability(TestPairSort):\n",
    "    def setUp(self):\n",
    "        self.PairClass = Pair\n",
    "        self.sortAlgo = pairSortUsingStability\n",
    "        \n",
    "    def test1(self):\n",
    "        #in this test we suppose x=0 for all entries\n",
    "        #this means that the algorithm should do a regular bubble sort\n",
    "        #we also suppose everything is already ordered\n",
    "        l = [self.PairClass(0, 1), self.PairClass(0, 3), self.PairClass(0, 4), self.PairClass(0, 6), \n",
    "            self.PairClass(0, 8), self.PairClass(0, 15), ]\n",
    "        self.sortAlgo(l)\n",
    "        #for item in l: print(item)\n",
    "        self.checkorder(l)\n",
    "            \n",
    "    def test2(self):\n",
    "        #in this test we suppose x=0 for all entries\n",
    "        #this means that the sort algorithms should do a \"regular\" sort\n",
    "        l = [self.PairClass(0, 8), self.PairClass(0, 4), self.PairClass(0, 3), self.PairClass(0, 9), \n",
    "            self.PairClass(0, 10), self.PairClass(0, 5), ]\n",
    "        self.sortAlgo(l)\n",
    "        #for item in l: print(item)\n",
    "        self.checkorder(l)\n",
    "\n",
    "            \n",
    "    def test3(self):\n",
    "        #in this test we suppose x and y are not fixed\n",
    "        #we also suppose that everything is in a good order\n",
    "        l = [self.PairClass(5, 8), self.PairClass(5, 10), self.PairClass(6, 10), self.PairClass(7, 12), \n",
    "            self.PairClass(5, 12), self.PairClass(9, 12), ]\n",
    "        self.sortAlgo(l)\n",
    "        #for item in l: print(item)\n",
    "        self.checkorder(l)\n",
    "        \n",
    "    def test4(self):\n",
    "        #in this test we suppose x and y are not fixed\n",
    "        #we suppose there is no two pairs that are comparable\n",
    "        l = [self.PairClass(8, 8), self.PairClass(5, 10), self.PairClass(10, 8), self.PairClass(12, 5)]\n",
    "        self.sortAlgo(l)\n",
    "        #for item in l: print(item)\n",
    "        self.checkorder(l)\n",
    "        \n",
    "    def test5(self):\n",
    "        #in this test we suppose x and y are not fixed\n",
    "        #the input is in arbitrary order\n",
    "        #we only test one case\n",
    "        l = [self.PairClass(5, 8), self.PairClass(10, 10), self.PairClass(12, 5), self.PairClass(9, 5),\n",
    "             self.PairClass(5, 10), self.PairClass(7, 2), self.PairClass(6, 10) ]\n",
    "        self.sortAlgo(l)\n",
    "        #for item in l: print(item)\n",
    "        self.checkorder(l)\n",
    "    \n",
    "    def test6(self):\n",
    "        #in this test we suppose x and y are not fixed\n",
    "        #the input is in arbitrary order\n",
    "        #we generate many cases\n",
    "        for size in range(0, 100):\n",
    "            #create a list\n",
    "            l = []\n",
    "            xs = random.sample(range(0, 100), size)\n",
    "            xy = random.sample(range(0, 100), size)\n",
    "            for i in range(0, size):\n",
    "                l.append(self.PairClass(xs[i], xy[i]))\n",
    "            self.sortAlgo(l)\n",
    "            #for item in l: print(item)\n",
    "            self.checkorder(l)\n",
    "        \n",
    "    def checkorder(self, l):\n",
    "        for i in range(0, len(l)-1):\n",
    "            for j in range(i, len(l)-1):\n",
    "                if l[i].areComparable(l[j]):\n",
    "                    self.assertTrue(l[i] <= l[j], \"{} and {} are not well ordered\".format(l[i], l[j]) )\n",
    "        \n",
    "        \n",
    "        \n",
    "    \n",
    "        \n",
    "        "
   ]
  },
  {
   "cell_type": "code",
   "execution_count": 14,
   "metadata": {},
   "outputs": [
    {
     "name": "stderr",
     "output_type": "stream",
     "text": [
      "......\n",
      "----------------------------------------------------------------------\n",
      "Ran 6 tests in 0.302s\n",
      "\n",
      "OK\n"
     ]
    },
    {
     "data": {
      "text/plain": [
       "<unittest.runner.TextTestResult run=6 errors=0 failures=0>"
      ]
     },
     "execution_count": 14,
     "metadata": {},
     "output_type": "execute_result"
    }
   ],
   "source": [
    "test = TestPairSortUsingStability()\n",
    "suite = unittest.TestLoader().loadTestsFromModule(test)\n",
    "unittest.TextTestRunner().run(suite)"
   ]
  },
  {
   "cell_type": "markdown",
   "metadata": {},
   "source": [
    "## Question 1.6 (5 marks)"
   ]
  },
  {
   "cell_type": "markdown",
   "metadata": {},
   "source": [
    "Define a function pairSortFast that takes a list $l$ of $n$ Pairs as input and sort this list in $O(n)$ time in the worst case (not the amortised worst case). Suppose that any pair $(a,b)$ in $l$ is such that $a$ and $b \\in \\{0, \\dots, U\\}$, where $U$ is a small integer. Hint: *a clever hashing function* may help."
   ]
  },
  {
   "cell_type": "code",
   "execution_count": 15,
   "metadata": {},
   "outputs": [],
   "source": [
    "def pairSortFast(l,u):\n",
    "    output=[]\n",
    "    hash_table=[[]for _ in range(u+1)]\n",
    "    \n",
    "    for each_pair in l:\n",
    "        index=each_pair.x\n",
    "        hash_table[index] += [each_pair]\n",
    "        \n",
    "    \n",
    "    for i in range(u+1):\n",
    "        if len(hash_table[i]) > 1:\n",
    "            pairSort(hash_table[i])\n",
    "    \n",
    "    \n",
    "    for i in range(u+1):\n",
    "        if len(hash_table[i]) != 0:\n",
    "            output += hash_table[i]\n",
    "            \n",
    "    return output  "
   ]
  },
  {
   "cell_type": "markdown",
   "metadata": {},
   "source": [
    "## Question 1.7 (5 marks)"
   ]
  },
  {
   "cell_type": "markdown",
   "metadata": {},
   "source": [
    "Thoroughly benchmark all the sorting algorithms you have written, and plot their running time as a function of the size of the input list. You may use methods and code seen in the lectures or tutes and pracs during the semester."
   ]
  },
  {
   "cell_type": "code",
   "execution_count": 16,
   "metadata": {},
   "outputs": [
    {
     "name": "stdout",
     "output_type": "stream",
     "text": [
      "Using matplotlib backend: MacOSX\n",
      "Maximum computing time: 0:00:20\n",
      "Actual computing time: 0:00:01\n"
     ]
    }
   ],
   "source": [
    "import random\n",
    "from timeit import default_timer as timer\n",
    "import datetime\n",
    "import matplotlib.pyplot as plt \n",
    "%matplotlib\n",
    "\n",
    "\n",
    "\n",
    "def generatelist(n, lower = 0, upper = 1000, seed = 0):\n",
    "    random.seed(seed)\n",
    "    l = [None] * n\n",
    "    for i in range(0,n):\n",
    "        l[i] = Pair(random.randrange(lower, upper),random.randrange(lower, upper))\n",
    "    return l\n",
    "\n",
    "\n",
    "\n",
    "\n",
    "\n",
    "sorting_algorithms = [pairSort, pairSortWithKey,pairSortUsingStability,pairSortFast]\n",
    "\n",
    "styles = {}\n",
    "styles[pairSort] = \"r\"\n",
    "styles[pairSortWithKey] = \"g\"\n",
    "styles[pairSortUsingStability] = \"b\"\n",
    "styles[pairSortFast] = \"g--\"\n",
    "\n",
    "\n",
    "\n",
    "\n",
    "def computeandplot(sorting_algorithms):\n",
    "    step = 100\n",
    "    nsamples = 100\n",
    "    samples = range(0, nsamples)\n",
    "    timelimit = 0.05 #seconds, per run\n",
    "    totaltime = 0\n",
    "    print(\"Maximum computing time:\", \\\n",
    "          str(datetime.timedelta(seconds=\\\n",
    "            timelimit*nsamples*len(sorting_algorithms))))\n",
    "    for sortalgo in sorting_algorithms:\n",
    "            attimelimit = False\n",
    "            times = [timelimit for _ in samples]\n",
    "            for i in samples:\n",
    "                if i == 0:\n",
    "                    times[i] = 0\n",
    "                    continue\n",
    "                n = step * i\n",
    "                if attimelimit == False:\n",
    "                    l = generatelist(n)\n",
    "                    if sortalgo != pairSortFast:\n",
    "                        start = timer()\n",
    "                        sortalgo(l)\n",
    "                        end = timer()\n",
    "                    else:\n",
    "                        start=timer()\n",
    "                        sortalgo(l,1000)\n",
    "                        end=timer()\n",
    "                    times[i] = end - start\n",
    "                    totaltime += times[i]\n",
    "                    if times[i] > timelimit:\n",
    "                        times[i] = timelimit\n",
    "                        attimelimit = True\n",
    "\n",
    "            plt.plot(samples, times, \\\n",
    "                     styles[sortalgo], \\\n",
    "                     label=sortalgo.__name__)\n",
    "    print(\"Actual computing time:\", str(datetime.timedelta(seconds=int(totaltime))))\n",
    "    plt.legend(bbox_to_anchor=(1.05, 1), loc=2, borderaxespad=0.)\n",
    "    plt.xlabel(\"list size / {}\".format(step))\n",
    "    plt.ylabel(\"time in seconds\")\n",
    "    plt.show()\n",
    "\n",
    "computeandplot(sorting_algorithms)\n"
   ]
  },
  {
   "cell_type": "markdown",
   "metadata": {},
   "source": [
    "# Exercise 2 (25 marks)"
   ]
  },
  {
   "cell_type": "markdown",
   "metadata": {},
   "source": [
    "You are given a tree $T$ with an integer value (negative or positive) at each node. We want to select a subtree of $T$, which contains at least the root ot $T$, that minimises the sum of the values at its nodes. Note that the answer is trivially $T$ if all nodes have a negative value, and simply the root of $T$ if all nodes have a positive value."
   ]
  },
  {
   "cell_type": "markdown",
   "metadata": {},
   "source": [
    "## Question 2.1 (5 marks)"
   ]
  },
  {
   "cell_type": "markdown",
   "metadata": {},
   "source": [
    "Define a data structure to store $T$."
   ]
  },
  {
   "cell_type": "code",
   "execution_count": 17,
   "metadata": {},
   "outputs": [],
   "source": [
    "class NArytree:\n",
    "    def __init__(self,key):\n",
    "        self.key = key\n",
    "        self.children =[]\n",
    "        \n",
    "    def __str__(self):\n",
    "        return str(self.key)\n",
    "    \n",
    "    def addChild(self,tree):\n",
    "        self.children.append(tree)\n",
    "    \n",
    "    def getChild(self,k):\n",
    "        return self.children[k]\n",
    "    \n",
    "    def getNchildren(self):\n",
    "        return len(self.children)\n",
    "    \n"
   ]
  },
  {
   "cell_type": "markdown",
   "metadata": {},
   "source": [
    "## Question 2.2 (15 marks)"
   ]
  },
  {
   "cell_type": "markdown",
   "metadata": {},
   "source": [
    "Design and code a dynamic programming algorithm that solves this problem and returns the optimal value. What is its $O()$ complexity in the worst-case?"
   ]
  },
  {
   "cell_type": "code",
   "execution_count": 18,
   "metadata": {},
   "outputs": [],
   "source": [
    "def optimalValFinder(t):\n",
    "    result=[]          # Carries the choosen nodes in the Tree\n",
    "    result.append(t.key) # First adds root node for all cases.\n",
    "\n",
    "    for i in t.children:           # Takes every child of the root to decide whether it worths to add or not using helper function\n",
    "        result+=_optimalValFinder(i)   # For every child of the root, returns the path( as list of values of path) that gives negative summation.\n",
    "                                       # If there is no path (under the investigated child) with negative sum returns empty list.\n",
    "\n",
    "\n",
    "    return sum(result)   # Adds up all the values that are reasonable to taken to find the optimum value.\n",
    "\n",
    "\n",
    "\n",
    "\n",
    "def _optimalValFinder(t):\n",
    "    \n",
    "    sum_of_childs=[]    # Carries choosable childs of a parent. For every parent starts with an empty list then adds childs.\n",
    "    nodes_to_take=[]    # Carries the list of nodes that are decided to be choosen.\n",
    "    \n",
    "    if t.getNchildren() == 0 :          # if it is a leaf, we take into account just the negative values\n",
    "        if t.key<0:                     # Because there is no reason to get a leaf with positive value.\n",
    "            sum_of_childs.append(t.key) # There is no children that can balance a leaf with a negative value.\n",
    "        \n",
    "        return sum_of_childs\n",
    "    \n",
    "    \n",
    "    if t.getNchildren() !=0:\n",
    "       \n",
    "        for each_child in t.children:\n",
    "            sum_of_childs+= _optimalValFinder(each_child)  # When the loop finishes for a parent\n",
    "                                                           # sum_of_childs carries all choosable childs of that parent \n",
    "    \n",
    "\n",
    "        \n",
    "        if sum(sum_of_childs) + t.key < 0:  # This step is where we decide to take or not the parent and their choosable children\n",
    "            nodes_to_take += sum_of_childs  # If Choosable children + parents value is negative, we add them together to the nodes_to_take list \n",
    "            nodes_to_take.append(t.key)     # Because we can not get children without parent and there is no reason to take a sub Tree with positive value.\n",
    "    \n",
    "    \n",
    "    return nodes_to_take\n",
    "    "
   ]
  },
  {
   "cell_type": "markdown",
   "metadata": {},
   "source": [
    "In my aproach, values of the nodes doesn't effect the complexity because code above starts it's investigation from the leaf and value of the nodes just effect the last if statement's result so it doesn't use anything else than an append function and one + of lists which will not change anything in O() complexity. Therefore , O(n) is the complexity of optimalValFinder() function in all worst, average and best case scenerios.(Where n is the number of values in the tree)"
   ]
  },
  {
   "cell_type": "markdown",
   "metadata": {},
   "source": [
    "## Question 2.3 (5 marks)"
   ]
  },
  {
   "cell_type": "markdown",
   "metadata": {},
   "source": [
    " Write and run unit tests and performance tests."
   ]
  },
  {
   "cell_type": "code",
   "execution_count": 19,
   "metadata": {},
   "outputs": [],
   "source": [
    "import unittest\n",
    "\n",
    "class TestNArytree(unittest.TestCase):\n",
    "    def setUp(self):             # Creating a Tree structure by adding parent-child relationships\n",
    "        self.t1=NArytree(100)    \n",
    "        self.t2=NArytree(-5)\n",
    "        self.t3=NArytree(3)\n",
    "        self.t4=NArytree(57)\n",
    "        self.t5=NArytree(-10)\n",
    "        self.t6=NArytree(8)\n",
    "        self.t7=NArytree(-5)\n",
    "        self.t8=NArytree(-1)\n",
    "        self.t9=NArytree(-8)\n",
    "        self.t10=NArytree(-6)\n",
    "        self.t11=NArytree(-5)\n",
    "        self.t12=NArytree(-23)\n",
    "        self.t13=NArytree(51)\n",
    "        \n",
    "        \n",
    "        \n",
    "        \n",
    "        self.t1.addChild(self.t2)\n",
    "        self.t1.addChild(self.t3)\n",
    "        self.t1.addChild(self.t4)\n",
    "        \n",
    "\n",
    "        self.t2.addChild(self.t5)\n",
    "        self.t2.addChild(self.t6)\n",
    "\n",
    "        self.t3.addChild(self.t7)\n",
    "        self.t3.addChild(self.t8)\n",
    "\n",
    "        self.t4.addChild(self.t9)\n",
    "\n",
    "        self.t9.addChild(self.t10)\n",
    "        self.t9.addChild(self.t11)\n",
    "\n",
    "        self.t10.addChild(self.t12)\n",
    "        self.t10.addChild(self.t13)\n",
    "        \n",
    "        \n",
    "    \n",
    "    def test_addChild(self):\n",
    "        \n",
    "        \n",
    "        self.assertTrue(self.t2 in self.t1.children)\n",
    "        self.assertTrue(self.t3 in self.t1.children)\n",
    "        self.assertTrue(self.t4 in self.t1.children)\n",
    "        \n",
    "        self.assertTrue(self.t5 in self.t2.children)\n",
    "        self.assertTrue(self.t6 in self.t2.children)\n",
    "        \n",
    "        self.assertTrue(self.t7 in self.t3.children)\n",
    "        self.assertTrue(self.t8 in self.t3.children)\n",
    "        \n",
    "        self.assertTrue(self.t9 in self.t4.children)\n",
    "        \n",
    "        self.assertTrue(self.t10 in self.t9.children)\n",
    "        self.assertTrue(self.t11 in self.t9.children)\n",
    "\n",
    "        self.assertTrue(self.t12 in self.t10.children)\n",
    "        self.assertTrue(self.t13 in self.t10.children)\n",
    "        \n",
    "        \n",
    "        self.assertFalse(self.t10 in self.t3.children)\n",
    "        self.assertFalse(self.t11 in self.t3.children)\n",
    "\n",
    "        self.assertFalse(self.t2 in self.t10.children)\n",
    "        self.assertFalse(self.t3 in self.t10.children)\n",
    "        \n",
    "        \n",
    "        \n",
    "        \n",
    "        \n",
    "        \n",
    "    \n",
    "    def test_getChild(self):\n",
    "\n",
    "        \n",
    "        self.assertTrue(self.t2 == self.t1.getChild(0))\n",
    "        self.assertTrue(self.t3 == self.t1.getChild(1))\n",
    "        self.assertTrue(self.t4 == self.t1.getChild(2))\n",
    "        \n",
    "        self.assertTrue(self.t5 == self.t2.getChild(0))\n",
    "        self.assertTrue(self.t6 == self.t2.getChild(1))\n",
    "\n",
    "        self.assertTrue(self.t7 == self.t3.getChild(0))\n",
    "        self.assertTrue(self.t8 == self.t3.getChild(1))\n",
    "        \n",
    "        self.assertTrue(self.t9 == self.t4.getChild(0))\n",
    "\n",
    "        self.assertTrue(self.t10 == self.t9.getChild(0))\n",
    "        self.assertTrue(self.t11 == self.t9.getChild(1))\n",
    "        \n",
    "        self.assertTrue(self.t12 == self.t10.getChild(0))\n",
    "        self.assertTrue(self.t13 == self.t10.getChild(1))\n",
    "        \n",
    "        \n",
    "        self.assertFalse(self.t10 == self.t3.getChild(0))\n",
    "        self.assertFalse(self.t11 == self.t3.getChild(1))\n",
    "\n",
    "        self.assertFalse(self.t2 == self.t10.getChild(0))\n",
    "        self.assertFalse(self.t3 == self.t10.getChild(1))\n",
    "        \n",
    "    \n",
    "    \n",
    "    def test_getNchildren(self):\n",
    "        self.assertTrue(self.t1.getNchildren() == 3)\n",
    "        self.assertTrue(self.t2.getNchildren() == 2)\n",
    "        self.assertTrue(self.t3.getNchildren() == 2)\n",
    "        self.assertTrue(self.t4.getNchildren() == 1)\n",
    "        self.assertTrue(self.t9.getNchildren() == 2)\n",
    "        self.assertTrue(self.t10.getNchildren() == 2)\n",
    "        self.assertTrue(self.t5.getNchildren() == 0)\n",
    "        \n",
    "        \n",
    "        \n",
    "        self.assertFalse(self.t1.getNchildren() == 5)\n",
    "        self.assertFalse(self.t2.getNchildren() == 1)\n",
    "        self.assertFalse(self.t3.getNchildren() == 0)\n",
    "        self.assertFalse(self.t4.getNchildren() == 3)\n",
    "        self.assertFalse(self.t9.getNchildren() == 4)\n",
    "        self.assertFalse(self.t10.getNchildren() == 1)\n",
    "        self.assertFalse(self.t5.getNchildren() == 1)\n",
    "        \n",
    "        \n",
    "\n",
    "        \n",
    "\n",
    "        \n",
    "    \n",
    "    def test_optimalValFinder(self):\n",
    "        self.assertTrue(optimalValFinder(self.t1) == 82)\n",
    "        self.assertTrue(optimalValFinder(self.t2) == -15)\n",
    "        self.assertTrue(optimalValFinder(self.t3) == -3)\n",
    "        self.assertTrue(optimalValFinder(self.t4) == 15)\n",
    "        self.assertTrue(optimalValFinder(self.t5) == -10)\n",
    "        self.assertTrue(optimalValFinder(self.t6) == 8)\n",
    "        self.assertTrue(optimalValFinder(self.t7) == self.t7.key)\n",
    "        self.assertTrue(optimalValFinder(self.t8) == self.t8.key)\n",
    "        self.assertTrue(optimalValFinder(self.t9) == -42)\n",
    "        self.assertTrue(optimalValFinder(self.t10) == -29)\n",
    "        self.assertTrue(optimalValFinder(self.t11) == self.t11.key)\n",
    "        self.assertTrue(optimalValFinder(self.t12) == self.t12.key)\n",
    "        self.assertTrue(optimalValFinder(self.t13) == self.t13.key)\n",
    "        "
   ]
  },
  {
   "cell_type": "code",
   "execution_count": 20,
   "metadata": {},
   "outputs": [
    {
     "name": "stderr",
     "output_type": "stream",
     "text": [
      "....\n",
      "----------------------------------------------------------------------\n",
      "Ran 4 tests in 0.003s\n",
      "\n",
      "OK\n"
     ]
    },
    {
     "data": {
      "text/plain": [
       "<unittest.runner.TextTestResult run=4 errors=0 failures=0>"
      ]
     },
     "execution_count": 20,
     "metadata": {},
     "output_type": "execute_result"
    }
   ],
   "source": [
    "test = TestNArytree()\n",
    "suite = unittest.TestLoader().loadTestsFromModule(test)\n",
    "unittest.TextTestRunner().run(suite)"
   ]
  },
  {
   "cell_type": "code",
   "execution_count": 21,
   "metadata": {},
   "outputs": [
    {
     "name": "stdout",
     "output_type": "stream",
     "text": [
      "Using matplotlib backend: MacOSX\n"
     ]
    }
   ],
   "source": [
    "import random\n",
    "from timeit import default_timer as timer\n",
    "import datetime\n",
    "import matplotlib.pyplot as plt \n",
    "%matplotlib\n",
    "\n",
    "\n",
    "\n",
    "def generatelist(n, lower = -1000, upper = 1000, seed = 0): # Genarating list of NArytrees\n",
    "    random.seed(seed)\n",
    "    l = [None] * n\n",
    "    for i in range(0,n):\n",
    "        l[i] = NArytree(random.randrange(lower, upper))\n",
    "    return l\n",
    "\n",
    "def make_tree(l):  # Using generated list, create parent child relationship to end up with 1 tree\n",
    "    random.seed(0)\n",
    "    n=len(l)\n",
    "    \n",
    "    for i in range(1,n):            # There will be one NArytree will left to end and it will be the root.\n",
    "        if len(l) == 2:              \n",
    "            l[0].addChild(l[1])\n",
    "            l.remove(l[1])\n",
    "            break\n",
    "        to_make_child = random.randrange(1,len(l)-1)   # Randomly choosen element of l is aded as child to \n",
    "        l[to_make_child-1].addChild(l[to_make_child])  # other element at 1 index before. \n",
    "        l.remove(l[to_make_child])   # When an element added to another Tree as a Child, it is removed \n",
    "                                     # because every element can have 1 parent.\n",
    "    \n",
    "    return l[0]\n",
    "    \n",
    "\n",
    "def performance(max_sample_size):\n",
    "    times=[None]*max_sample_size\n",
    "    sample_sizes=[None]* max_sample_size\n",
    "\n",
    "    for n in range(1,max_sample_size+1): # Calculates process time of optimalValFinder function \n",
    "        l=generatelist(n)                # For every list size.(between 1 and max_sample_size)\n",
    "        root = make_tree(l)\n",
    "        start = timer()\n",
    "        optimalValFinder(root)\n",
    "        end = timer()\n",
    "        times[n-1] = end - start\n",
    "        sample_sizes[n-1] = n\n",
    "    \n",
    "    \n",
    "    \n",
    "    plt.plot(sample_sizes,times)\n",
    "    plt.xlabel(\"list size \")\n",
    "    plt.ylabel(\"time in seconds\")\n",
    "    plt.show()\n",
    "\n",
    "    \n",
    "    \n",
    "performance(1000)"
   ]
  },
  {
   "cell_type": "markdown",
   "metadata": {},
   "source": [
    "# Exercise 3 (30 marks)"
   ]
  },
  {
   "cell_type": "markdown",
   "metadata": {},
   "source": [
    "We are again interested in lists of pairs of integers. However, this time, we want to store these pairs into a rooted tree $T$. More precisely, each node of $T$ will store a pair of $l$. This tree $T$ will have the property that for each inner node $k$ that stores a pair $(a, b)$, the pair $(c, d)$ stored at a node in the subtree of $k$ satisfies $(a, b) \\leq (c, d)$. Furthermore, the pairs stored at sibling nodes must be non-comparable.\n",
    "\n",
    "We will suppose that the root of the tree is a dummy pair $(-1, -1)$.\n",
    "\n",
    "You need to provide a unit test for each question in this exercise where code is required. Each question is evaluated on the correctness of your code and the thoroughness of your unit tests."
   ]
  },
  {
   "cell_type": "markdown",
   "metadata": {},
   "source": [
    "## Question 3.1 (10 marks)"
   ]
  },
  {
   "cell_type": "markdown",
   "metadata": {},
   "source": [
    "Define a class that stores the tree $T$ for any given list of pairs. The \\_\\_init\\_\\_() function must take a list as input and build the tree accordingly. An insert() function must allow the insertion of a pair to an initialised tree. Also provide a function printTree() which prints a tree with the given format:  \n",
    "at level 0$~~~$(-1,-1)  \n",
    "at level 1$~~~~~~$(1,2)  \n",
    "at level 2$~~~~~~~~~$(3,2)  \n",
    "at level 3$~~~~~~~~~~~~$(4,2)  \n",
    "at level 3$~~~~~~~~~~~~$(3,3)  \n",
    "at level 4$~~~~~~~~~~~~~~~$(3,4)  \n",
    "at level 2$~~~~~~~~~$(1,3)  \n",
    "at level 3$~~~~~~~~~~~~$(1,4)  \n",
    "at level 4$~~~~~~~~~~~~~~~$(1,5)  \n",
    "at level 1$~~~~~~$(2,1)  \n",
    "(the pairs above are given as an example)"
   ]
  },
  {
   "cell_type": "code",
   "execution_count": 22,
   "metadata": {},
   "outputs": [],
   "source": [
    "class Node:\n",
    "    def __init__(self,key , parent = None):\n",
    "        self.key = key\n",
    "        self.children = []\n",
    "        self.parent = parent\n",
    "        \n",
    "    def __str__(self):\n",
    "        return str(self.key)\n",
    "    \n",
    "    def addChild(self,node):\n",
    "        node.parent=self\n",
    "        self.children.append(node)\n",
    "    \n",
    "    def hasChild(self):\n",
    "        return len(self.children) != 0 \n",
    "    \n",
    "    def getNchildren(self):\n",
    "        return len(self.children)\n",
    "    \n",
    "    \n",
    "    \n",
    "    \n",
    "class Tree:\n",
    "    def __init__(self,l):              # Takes a list as an argument to initialise Tree building process.\n",
    "        self.size = 1                  # Defines the root as (-1,-1) for all Tree class objects\n",
    "        self.root = Node(Pair(-1,-1))  # Then invokes buildTree() function using given list to build the tree structure.\n",
    "        self.buildTree(l)\n",
    "        \n",
    "    def buildTree(self,l):     # Takes a list of pairs as argument and takes first element of list to\n",
    "        if len(l) > 0 :        # insert it to the tree using insert() function. \n",
    "            self.insert(l[0])  # After insert, removes inserted element from the list and makes a recursive call\n",
    "            l.remove(l[0])     # until all elements are inserted in the tree.\n",
    "            self.buildTree(l)\n",
    "            \n",
    "            \n",
    "            \n",
    "    def printTree(self):       # Calls helper function by giving root of tree and level 0 as a starting point argument\n",
    "        level = 0\n",
    "        self._printTree(self.root,level)\n",
    "        \n",
    "    \n",
    "    \n",
    "    def _printTree(self, current , level):                         # Recursive DFS algorithm.\n",
    "        white_space ='   '+'   '*level                             # For every recursive call increases the level variable by 1\n",
    "        print('at level {}{}{}'.format(level,white_space,current)) # then use it in the print function to determine \n",
    "                                                                   #  number of whitespaces in the printed string.\n",
    "        for each_child in current.children :\n",
    "            self._printTree(each_child,level+1)\n",
    "              \n",
    "            \n",
    "    \n",
    "    \n",
    "    def insert(self,pair):                # Function to start inserting process from the root of the tree\n",
    "        self._insert(pair,self.root)      # for every element.\n",
    "                                          # Calls helper _insert() function to handle rest of the process.\n",
    "\n",
    "            \n",
    "    \n",
    "    def _insert(self,pair,currentNode):   \n",
    "        \n",
    "        bigger=[]      # List to carry the childs of the currentNode that are bigger than the input pair.\n",
    "        smaller=[]\n",
    "        uncomp=[]                # List to carry the childs of the currentNode that are smaller than the input pair.\n",
    "        \n",
    "        if pair < currentNode.key:               # A pair smaller than currentNode must be at a lower level\n",
    "            self._insert(pair,currentNode.parent)# That's why calls the function with currentNode's parent.\n",
    "            return True\n",
    "        \n",
    "        \n",
    "        \n",
    "\n",
    "        \n",
    "        \n",
    "        #Content of smaller and bigger lists are put in these list\n",
    "        # By looking at currentNode's children.\n",
    "        for each_child in currentNode.children:     \n",
    "            if each_child.key.areComparable(pair):  \n",
    "                if each_child.key>= pair:\n",
    "                    bigger.append(each_child)\n",
    "                elif each_child.key < pair:\n",
    "                    smaller.append(each_child)\n",
    "            else:\n",
    "                uncomp.append(each_child)\n",
    "                \n",
    "        \n",
    "        \n",
    "        \n",
    "    \n",
    "        \n",
    "        \n",
    "        # If none of the children of the currentNode is comparable,\n",
    "        # Inserts the pair as a child of currentNode.\n",
    "        if (len(uncomp) == len(currentNode.children)) and pair >= currentNode.key :\n",
    "\n",
    "            currentNode.children.append(Node(pair,parent=currentNode))\n",
    "     \n",
    "            self.size +=1\n",
    "            return True\n",
    "            \n",
    "     \n",
    "        \n",
    "        \n",
    "        # If There is just one child comparable and bigger than pair\n",
    "        # pair is inserted as a child of currentNode and comparable child\n",
    "        # is made pair's child.\n",
    "        if len(smaller) == 0 and len(bigger) == 1 and pair >= currentNode.key:\n",
    "\n",
    "            \n",
    "            \n",
    "            new = Node(pair,parent=bigger[0].parent)\n",
    "            bigger[0].parent.children.append(new)\n",
    "            bigger[0].parent.children.remove(bigger[0])\n",
    "            bigger[0].parent = new\n",
    "            new.children.append(bigger[0])\n",
    "            self.size +=1\n",
    "            \n",
    "            \n",
    "            return True\n",
    "            \n",
    "\n",
    "        \n",
    "        # If There is just one child comparable and smaller than pair\n",
    "        # Makes a recursive call to investigate comparable child as currentNode\n",
    "        # Because only possiblely appropriate sub tree is under that comparable child\n",
    "        if len(smaller) == 1 and len(bigger) == 0 and pair >= currentNode.key:\n",
    "            self._insert(pair,smaller[0])\n",
    "            return True\n",
    "            \n",
    "        \n",
    "\n",
    "\n",
    "        \n",
    "        # If all the children of currentNode are bigger than pair and pair is smaller than currentNode\n",
    "        # Pair becomes the new parent of that children and currentNode becomes the parent of pair.\n",
    "        if (len(bigger) == len(currentNode.children) and pair>= currentNode.key):\n",
    "\n",
    "            \n",
    "            \n",
    "            new = Node(pair,parent=currentNode)\n",
    "            for each_child in currentNode.children:\n",
    "                new.children.append(each_child)\n",
    "                each_child.parent=new\n",
    "            currentNode.children=[]\n",
    "            currentNode.children.append(new)\n",
    "            self.size+=1\n",
    "            \n",
    "\n",
    "            return True\n",
    "        \n",
    "        if (len(smaller)==0 and len(bigger)>1 and pair>=currentNode.key ):\n",
    "\n",
    "            currentNode.children=[]                \n",
    "                \n",
    "            new=Node(pair,parent=currentNode)\n",
    "            currentNode.children.append(new)\n",
    "            for each in uncomp:\n",
    "                currentNode.children.append(each)\n",
    "                each.parent=currentNode\n",
    "                \n",
    "            for each in bigger:\n",
    "                each.parent=new\n",
    "                new.children.append(each)\n",
    "                \n",
    "            self.size+=1\n",
    "            \n",
    "\n",
    "\n",
    "        # If None of the cases above are possible, every children of currentNode that are small from pair\n",
    "        # are investigated until finding an appropriate place for pair.\n",
    "        if ((len(smaller) > 1 ) and (len(bigger) != len(currentNode.children)) and (pair >= currentNode.key)) :\n",
    "            stop = False\n",
    "            for each_node in smaller:\n",
    "                if not stop:\n",
    "                    stop=self._insert(pair,each_node)\n",
    "                    return True\n",
    "                \n"
   ]
  },
  {
   "cell_type": "code",
   "execution_count": 23,
   "metadata": {},
   "outputs": [],
   "source": [
    "import unittest\n",
    "\n",
    "class TestNode(unittest.TestCase):\n",
    "    def setUp(self):             # Creating Nodes\n",
    "        self.n1=Node(Pair(1,2))\n",
    "        self.n2=Node(Pair(2,1))\n",
    "        self.n3=Node(Pair(3,4))\n",
    "        self.n4=Node(Pair(1,4))\n",
    "        self.n5=Node(Pair(3,3))\n",
    "        self.n6=Node(Pair(4,2))\n",
    "        self.n7=Node(Pair(1,5))\n",
    "        self.n8=Node(Pair(3,2))\n",
    "        self.n9=Node(Pair(1,3))\n",
    "        \n",
    "         \n",
    "        \n",
    "        self.n1.addChild(self.n2)\n",
    "        self.n1.addChild(self.n3)\n",
    "        self.n1.addChild(self.n4)\n",
    "        \n",
    "\n",
    "        self.n2.addChild(self.n5)\n",
    "        self.n2.addChild(self.n6)\n",
    "\n",
    "        self.n3.addChild(self.n7)\n",
    "        self.n3.addChild(self.n8)\n",
    "\n",
    "        self.n4.addChild(self.n9)\n",
    "        \n",
    "    \n",
    "    def test_addChild(self):\n",
    "        \n",
    "        \n",
    "        self.assertTrue(self.n2 in self.n1.children)\n",
    "        self.assertTrue(self.n3 in self.n1.children)\n",
    "        self.assertTrue(self.n4 in self.n1.children)\n",
    "        \n",
    "        self.assertTrue(self.n5 in self.n2.children)\n",
    "        self.assertTrue(self.n6 in self.n2.children)\n",
    "        \n",
    "        self.assertTrue(self.n7 in self.n3.children)\n",
    "        self.assertTrue(self.n8 in self.n3.children)\n",
    "        \n",
    "        self.assertTrue(self.n9 in self.n4.children)\n",
    "        \n",
    "        self.assertFalse(self.n9 in self.n3.children)\n",
    "        self.assertFalse(self.n2 in self.n3.children)\n",
    "\n",
    "        self.assertFalse(self.n2 in self.n5.children)\n",
    "        self.assertFalse(self.n3 in self.n6.children)\n",
    "        \n",
    "        \n",
    "        \n",
    "        \n",
    "        \n",
    "        \n",
    "    \n",
    "    def test_hasChild(self):\n",
    "\n",
    "        self.assertTrue(self.n1.hasChild())        \n",
    "        self.assertTrue(self.n2.hasChild())\n",
    "        self.assertTrue(self.n3.hasChild()) \n",
    "        self.assertTrue(self.n4.hasChild())\n",
    "        \n",
    "        \n",
    "        self.assertFalse(self.n5.hasChild())\n",
    "        self.assertFalse(self.n6.hasChild())\n",
    "\n",
    "        self.assertFalse(self.n7.hasChild())\n",
    "        self.assertFalse(self.n8.hasChild())\n",
    "        \n",
    "        self.assertFalse(self.n9.hasChild())\n",
    "        \n",
    "    \n",
    "    \n",
    "    def test_getNchildren(self):\n",
    "        self.assertTrue(self.n1.getNchildren() == 3)\n",
    "        self.assertTrue(self.n2.getNchildren() == 2)\n",
    "        self.assertTrue(self.n3.getNchildren() == 2)\n",
    "        self.assertTrue(self.n4.getNchildren() == 1)\n",
    "        self.assertTrue(self.n5.getNchildren() == 0)\n",
    "        self.assertTrue(self.n6.getNchildren() == 0)\n",
    "        self.assertTrue(self.n7.getNchildren() == 0)\n",
    "        \n",
    "        \n",
    "        \n",
    "        self.assertFalse(self.n1.getNchildren() == 5)\n",
    "        self.assertFalse(self.n2.getNchildren() == 1)\n",
    "        self.assertFalse(self.n3.getNchildren() == 0)\n",
    "        self.assertFalse(self.n4.getNchildren() == 3)\n",
    "        self.assertFalse(self.n5.getNchildren() == 4)\n",
    "        self.assertFalse(self.n6.getNchildren() == 1)\n",
    "        self.assertFalse(self.n7.getNchildren() == 1)\n",
    "        \n",
    "        \n",
    "\n",
    "        \n",
    "\n",
    "        \n",
    "class TestTree(unittest.TestCase):\n",
    "    def setUp(self):\n",
    "        self.PairClass = Pair\n",
    "        self.buildTree = Tree\n",
    "        \n",
    "        \n",
    "        \n",
    "        \n",
    "    # This is to check  __init__ function , buildTree function and also insert function because\n",
    "    # init function calls buildTree and it calls insert function and insert function insert every element of \n",
    "    # the given list one by one without sorting the list. Therefore, there is no way for a not working insert function\n",
    "    # when the other 2 funcitons are working properly\n",
    "        \n",
    "    def check_buildTree(self,currentNode):\n",
    "        for each_child in currentNode.children:\n",
    "            self.assertTrue(each_child.key >= currentNode.key, \"{} and {} are not well structured\".format(each_child.key, currentNode.key))\n",
    "            \n",
    "        for i in range(len(currentNode.children)-1):\n",
    "            for j in range(i+1,len(currentNode.children)):\n",
    "                self.assertFalse(currentNode.children[i].key.areComparable(currentNode.children[j].key),\"{} and {} are comparable\".format(currentNode.children[i].key, currentNode.children[j].key))\n",
    "        for each_child in currentNode.children:\n",
    "            self.check_buildTree(each_child)\n",
    "    \n",
    "    def check_size(self,tree,list_size):\n",
    "        self.assertEqual(tree.size-1,list_size)\n",
    "    \n",
    "    def test1(self):\n",
    "        random.seed(0)\n",
    "        l=[None]*10\n",
    "        for i in range(0,10):\n",
    "            l[i] = Pair(random.randrange(0,1000),random.randrange(0,1000))\n",
    "            \n",
    "        list_size=len(l)\n",
    "        tree_to_check=Tree(l)\n",
    "        self.check_size(tree_to_check,list_size)\n",
    "        self.check_buildTree(tree_to_check.root)\n",
    "    \n",
    "    def test2(self):\n",
    "        random.seed(0)\n",
    "        l=[None]*100\n",
    "        for i in range(0,100):\n",
    "            l[i] = Pair(random.randrange(0,1000),random.randrange(0,1000))\n",
    "        \n",
    "        list_size=len(l)\n",
    "        tree_to_check=Tree(l)\n",
    "        self.check_size(tree_to_check,list_size)\n",
    "        self.check_buildTree(tree_to_check.root)\n",
    "    \n",
    "    \n",
    "    def test3(self):\n",
    "        random.seed(0)\n",
    "        l=[None]*1000\n",
    "        for i in range(0,1000):\n",
    "            l[i] = Pair(random.randrange(0,1000),random.randrange(0,1000))\n",
    "            \n",
    "        list_size=len(l)\n",
    "        tree_to_check=Tree(l)\n",
    "        self.check_size(tree_to_check,list_size)\n",
    "        self.check_buildTree(tree_to_check.root)\n",
    "        \n",
    "        \n",
    "    "
   ]
  },
  {
   "cell_type": "code",
   "execution_count": 24,
   "metadata": {},
   "outputs": [
    {
     "name": "stderr",
     "output_type": "stream",
     "text": [
      "...\n",
      "----------------------------------------------------------------------\n",
      "Ran 3 tests in 0.003s\n",
      "\n",
      "OK\n"
     ]
    },
    {
     "data": {
      "text/plain": [
       "<unittest.runner.TextTestResult run=3 errors=0 failures=0>"
      ]
     },
     "execution_count": 24,
     "metadata": {},
     "output_type": "execute_result"
    }
   ],
   "source": [
    "test = TestNode()\n",
    "suite = unittest.TestLoader().loadTestsFromModule(test)\n",
    "unittest.TextTestRunner().run(suite)"
   ]
  },
  {
   "cell_type": "code",
   "execution_count": 25,
   "metadata": {},
   "outputs": [
    {
     "name": "stderr",
     "output_type": "stream",
     "text": [
      "...\n",
      "----------------------------------------------------------------------\n",
      "Ran 3 tests in 0.062s\n",
      "\n",
      "OK\n"
     ]
    },
    {
     "data": {
      "text/plain": [
       "<unittest.runner.TextTestResult run=3 errors=0 failures=0>"
      ]
     },
     "execution_count": 25,
     "metadata": {},
     "output_type": "execute_result"
    }
   ],
   "source": [
    "test = TestTree()\n",
    "suite = unittest.TestLoader().loadTestsFromModule(test)\n",
    "unittest.TextTestRunner().run(suite)"
   ]
  },
  {
   "cell_type": "markdown",
   "metadata": {},
   "source": [
    "In $O()$, what is the running time complexity of the functions you defined?"
   ]
  },
  {
   "cell_type": "markdown",
   "metadata": {},
   "source": [
    "__init__ function which calls buildTree() function, both have $O(n log n)$ complexity on average.\n",
    "Because for every insert , function starts from the root and if there is a node at any level which is uncomparable with the pair needed to be inserted, the whole sub tree become out of interest so remaining part is considered only. Therefore, for every insertion to tree from the given list to build tree costs (log n) on average. There will be n insertions so complexity $O(n log n)$ on average. For the worst case we need to visit all nodes separetaly. Therefore, every insertion will cost O(n) and __init__ and buildTree functions will have O(n^2) complexity at worst-case. For the best-case complexity of insert function will be O(1) because if all the elements are uncomparable it can directly insert it \n",
    "\n",
    "For the insert() function which takes a pair as an argument and inserts it to the appropriate place of the tree has \n",
    "O(log n) complexity on average when n is the size of the Tree. Because of the same reasons explained above on average O(log n) but in worst-case it becomes O(n) because if there is no uncomparable node , we may need to visit all nodes. For the best case it is O(1) when there is one element at first level and it is uncomparable.\n",
    "\n",
    "For the printTree() function O(n) is the complexity because it just visit all the nodes. n is the number of nodes in the tree."
   ]
  },
  {
   "cell_type": "markdown",
   "metadata": {},
   "source": [
    "## Question 3.2 (5 marks)"
   ]
  },
  {
   "cell_type": "markdown",
   "metadata": {},
   "source": [
    "In the class you have defined in Question 3.1, can there be multiple trees that store the same list of pairs? (including after insertions?). Prove your answer."
   ]
  },
  {
   "cell_type": "markdown",
   "metadata": {},
   "source": [
    "There can be different trees due to input order of the list because of the order sensitive definition of insert() function used to build the tree. When insert function is about to insert a pair it starts to search for an appropriate place from the root of the tree and whenever it finds the place inserts the pair there. This insertion can easily effect the remaining part of the list's insertion location.\n",
    "\n",
    "For example if there are 2 lists with same pairs in a different order as follows;\n",
    "\n",
    "$l1=[(1,2) , (2,1) , (3,4)]$\n",
    "\n",
    "$l2=[(2,1) , (1,2)  , (3,4)]$\n",
    "\n",
    "\n",
    "If we build a tree using $l1$ , our function will put  (1,2) as the first child of the root and (2,1) as the second child of the root(Because they are uncomparable). For the insertion of (3,4) insert() function will first look at the children of root and (3,4) is comparable with both of them so it wont be possible to put it as a sibling node of them. Then insert function will try to find a appropriate position at level2 to first by checking children of (1,2) because it is the first child of root. ( (3,4) is bigger than both of them so the function may investigate the children of both (1,2) and (2,1) but at the first place it finds , it puts it there.) When the function checks the children of (1,2) it will see that there is no children which means that all childrens are incomparable with (3,4) that is the first case in insert fuction and if it is provided directly inserts the new node there. Therefore, we will end up with a tree with (3,4) is a child of (1,2).\n",
    "\n",
    "If we build a tree using $l2$ , our function will put  (2,1) as the first child of the root and (1,2) as the second child of the root. In this case with the same logic above , function will insert the (3,4) under (2,1) because it is the first child of the root and we will end up with a tree where (3,4) is the child of (2,1) instead of (1,2)."
   ]
  },
  {
   "cell_type": "markdown",
   "metadata": {},
   "source": [
    "## Question 3.3 (10 marks)"
   ]
  },
  {
   "cell_type": "markdown",
   "metadata": {},
   "source": [
    "We now suppose that $T$ is a DAG, a Directed Acyclic Graph (see e.g. [here](https://en.wikipedia.org/wiki/Directed_acyclic_graph)). In the DAG $T$, a child node which stores a pair $(e, f)$ must:\n",
    "* have as an ancester all nodes that have a pair $(a, b)$ such that $(a,b)\\leq(e,f)$,\n",
    "* have no other ancester,\n",
    "* have no edge to an ancester $(a,b)$ if there exists a pair $(c,d)$ such that $(a,b)\\leq (c,d) \\leq(e,f)$."
   ]
  },
  {
   "cell_type": "markdown",
   "metadata": {},
   "source": [
    "Design a class (it may be based on the previous one) to allow and build this representation. Also provide a function printTree() which prints the DAG with a similar format."
   ]
  },
  {
   "cell_type": "code",
   "execution_count": 26,
   "metadata": {},
   "outputs": [],
   "source": [
    "class Vertex:\n",
    "    def __init__(self,key):\n",
    "        self.key = key\n",
    "        self.connectedTo = []\n",
    "\n",
    "    def addNeighbor(self,nbr):\n",
    "        self.connectedTo.append(nbr)\n",
    "\n",
    "    def __str__(self):\n",
    "        return str(self.id) \n",
    "\n",
    "    def getConnections(self):\n",
    "        return self.connectedTo\n",
    "\n",
    "    def getId(self):\n",
    "        return self.id\n",
    "\n",
    "class Graph:\n",
    "    def __init__(self):\n",
    "        self.vertList=[]\n",
    "        self.size = 0\n",
    "        \n",
    "    def addVertex(self,key):\n",
    "        self.size +=1\n",
    "        new = Vertex(key)\n",
    "        self.vertList.append(new)\n",
    "        return new"
   ]
  }
 ],
 "metadata": {
  "kernelspec": {
   "display_name": "Python 3",
   "language": "python",
   "name": "python3"
  },
  "language_info": {
   "codemirror_mode": {
    "name": "ipython",
    "version": 3
   },
   "file_extension": ".py",
   "mimetype": "text/x-python",
   "name": "python",
   "nbconvert_exporter": "python",
   "pygments_lexer": "ipython3",
   "version": "3.6.8"
  }
 },
 "nbformat": 4,
 "nbformat_minor": 2
}
