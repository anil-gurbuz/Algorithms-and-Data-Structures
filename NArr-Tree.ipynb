{
 "cells": [
  {
   "cell_type": "code",
   "execution_count": 2,
   "metadata": {},
   "outputs": [],
   "source": [
    "class NArytree:\n",
    "    def __init__(self,key):\n",
    "        self.key = key\n",
    "        self.children =[]\n",
    "        \n",
    "    def __str__(self):\n",
    "        return str(self.key)\n",
    "    \n",
    "    \n",
    "    def addChild(self,tree):\n",
    "        self.children.append(tree)\n",
    "    \n",
    "    def getChild(self,k):\n",
    "        return self.children[k]\n",
    "    \n",
    "    def getNchildren(self):\n",
    "        return len(self.children)\n",
    "\n",
    "    "
   ]
  },
  {
   "cell_type": "code",
   "execution_count": 3,
   "metadata": {},
   "outputs": [],
   "source": [
    "def NArytreeBFS(t):\n",
    "    sum_of_childs=[]\n",
    "    nodes_to_take=[]\n",
    "    \n",
    "    if t.getNchildren() == 0 :\n",
    "        if t.key<0:\n",
    "            sum_of_childs.append(t.key)\n",
    "        \n",
    "        return sum_of_childs\n",
    "    \n",
    "    \n",
    "    if t.getNchildren() !=0:\n",
    "       \n",
    "        for each_child in t:\n",
    "            sum_of_childs+= NArytreeBFS(each_child)\n",
    "    \n",
    "    \n",
    "    if t.getNchildren() != 0 :\n",
    "        \n",
    "        if sum(sum_of_childs) + t.key < 0:\n",
    "            nodes_to_take += sum_of_childs\n",
    "            nodes_to_take.append(t.key)\n",
    "    \n",
    "    \n",
    "    \n",
    "    \n",
    "    \n",
    "    return nodes_to_take\n",
    "    \n",
    "\n",
    "        \n",
    "    \n",
    "    \n",
    "    \n",
    "    \n",
    "   \n",
    "\n"
   ]
  },
  {
   "cell_type": "code",
   "execution_count": 7,
   "metadata": {},
   "outputs": [
    {
     "name": "stdout",
     "output_type": "stream",
     "text": [
      "[100, -10, -5, -5, -1, 3]\n"
     ]
    }
   ],
   "source": [
    "result=[]\n",
    "result.append(t1.key)\n",
    "\n",
    "for i in t1:\n",
    "    result+=NArytreeBFS(i)\n",
    "\n",
    "\n",
    "print(result)"
   ]
  },
  {
   "cell_type": "code",
   "execution_count": 16,
   "metadata": {},
   "outputs": [],
   "source": [
    "d1=NArytree(1)\n",
    "d2=NArytree(-2)\n",
    "d3=NArytree(3)\n",
    "d4=NArytree(4)\n",
    "d5=NArytree(-5)\n",
    "d6=NArytree(-6)\n",
    "d7=NArytree(7)\n",
    "d8=NArytree(8)\n",
    "d9=NArytree(9)\n",
    "d10=NArytree(10)\n",
    "d11=NArytree(11)\n",
    "d12=NArytree(12)\n",
    "\n",
    "d1.addChild(d2)\n",
    "d1.addChild(d3)\n",
    "d1.addChild(d4)\n",
    "\n",
    "\n",
    "d2.addChild(d5)\n",
    "\n",
    "d5.addChild(d8)\n",
    "d5.addChild(d9)\n",
    "d5.addChild(d10)\n",
    "\n",
    "d3.addChild(d6)\n",
    "\n",
    "d4.addChild(d7)\n",
    "\n",
    "d7.addChild(d11)\n",
    "\n",
    "\n",
    "\n",
    "\n",
    "\n",
    "\n"
   ]
  },
  {
   "cell_type": "code",
   "execution_count": 10,
   "metadata": {},
   "outputs": [
    {
     "data": {
      "text/plain": [
       "6"
      ]
     },
     "execution_count": 10,
     "metadata": {},
     "output_type": "execute_result"
    }
   ],
   "source": [
    "a=[1,2,3]\n",
    "sum(a)"
   ]
  },
  {
   "cell_type": "code",
   "execution_count": 13,
   "metadata": {},
   "outputs": [
    {
     "data": {
      "text/plain": [
       "[]"
      ]
     },
     "execution_count": 13,
     "metadata": {},
     "output_type": "execute_result"
    }
   ],
   "source": [
    "NArytreeBFS(t1)"
   ]
  },
  {
   "cell_type": "code",
   "execution_count": 6,
   "metadata": {},
   "outputs": [],
   "source": [
    "t1=NArytree(100)\n",
    "t2=NArytree(-5)\n",
    "t3=NArytree(3)\n",
    "t4=NArytree(57)\n",
    "t5=NArytree(-10)\n",
    "t6=NArytree(8)\n",
    "t7=NArytree(-5)\n",
    "t8=NArytree(-1)\n",
    "t9=NArytree(-8)\n",
    "t10=NArytree(-6)\n",
    "t11=NArytree(-5)\n",
    "t12=NArytree(-23)\n",
    "t13=NArytree(51)\n",
    "\n",
    "\n",
    "t1.addChild(t2)\n",
    "t1.addChild(t3)\n",
    "t1.addChild(t4)\n",
    "\n",
    "\n",
    "t2.addChild(t5)\n",
    "t2.addChild(t6)\n",
    "\n",
    "t3.addChild(t7)\n",
    "t3.addChild(t8)\n",
    "\n",
    "t4.addChild(t9)\n",
    "\n",
    "t9.addChild(t10)\n",
    "t9.addChild(t11)\n",
    "t10.addChild(t12)\n",
    "t10.addChild(t13)\n"
   ]
  },
  {
   "cell_type": "code",
   "execution_count": 4,
   "metadata": {},
   "outputs": [
    {
     "ename": "NameError",
     "evalue": "name 'BinaryTree' is not defined",
     "output_type": "error",
     "traceback": [
      "\u001b[0;31m---------------------------------------------------------------------------\u001b[0m",
      "\u001b[0;31mNameError\u001b[0m                                 Traceback (most recent call last)",
      "\u001b[0;32m<ipython-input-4-70dd0e8dd680>\u001b[0m in \u001b[0;36m<module>\u001b[0;34m()\u001b[0m\n\u001b[1;32m      1\u001b[0m \u001b[0;32mfrom\u001b[0m \u001b[0mcollections\u001b[0m \u001b[0;32mimport\u001b[0m \u001b[0mdeque\u001b[0m\u001b[0;34m\u001b[0m\u001b[0m\n\u001b[1;32m      2\u001b[0m \u001b[0;34m\u001b[0m\u001b[0m\n\u001b[0;32m----> 3\u001b[0;31m \u001b[0;32mclass\u001b[0m \u001b[0mBetterBinaryTree\u001b[0m\u001b[0;34m(\u001b[0m\u001b[0mBinaryTree\u001b[0m\u001b[0;34m)\u001b[0m\u001b[0;34m:\u001b[0m\u001b[0;34m\u001b[0m\u001b[0m\n\u001b[0m\u001b[1;32m      4\u001b[0m \u001b[0;34m\u001b[0m\u001b[0m\n\u001b[1;32m      5\u001b[0m     \u001b[0;32mdef\u001b[0m \u001b[0m__init__\u001b[0m\u001b[0;34m(\u001b[0m\u001b[0mself\u001b[0m\u001b[0;34m,\u001b[0m\u001b[0mkey\u001b[0m\u001b[0;34m)\u001b[0m\u001b[0;34m:\u001b[0m\u001b[0;34m\u001b[0m\u001b[0m\n",
      "\u001b[0;31mNameError\u001b[0m: name 'BinaryTree' is not defined"
     ]
    }
   ],
   "source": [
    "from collections import deque\n",
    "\n",
    "class BetterBinaryTree(BinaryTree):\n",
    "    \n",
    "    def __init__(self,key):\n",
    "        BinaryTree.__init__(self,key)\n",
    "        self.children=deque()\n",
    "        \n",
    "    def setLeftChild(self,leftChild):\n",
    "        BinaryTree.setLeftChild(self,leftChild)\n",
    "        self.children.appendleft(leftChild)\n",
    "        \n",
    "    def setRightChild(self,rightChild):\n",
    "        BinaryTree.setRightChild(self,rightChild)\n",
    "        self.children.append(rightChild)\n",
    "        \n",
    "    def __iter__(self):\n",
    "        return self.children.__iter__()\n",
    "    \n",
    "    def __next__(self):\n",
    "        return self.children.__next__()\n",
    "    \n",
    "\n",
    "        "
   ]
  },
  {
   "cell_type": "code",
   "execution_count": null,
   "metadata": {},
   "outputs": [],
   "source": []
  }
 ],
 "metadata": {
  "kernelspec": {
   "display_name": "Python 3",
   "language": "python",
   "name": "python3"
  },
  "language_info": {
   "codemirror_mode": {
    "name": "ipython",
    "version": 3
   },
   "file_extension": ".py",
   "mimetype": "text/x-python",
   "name": "python",
   "nbconvert_exporter": "python",
   "pygments_lexer": "ipython3",
   "version": "3.6.4"
  }
 },
 "nbformat": 4,
 "nbformat_minor": 2
}
