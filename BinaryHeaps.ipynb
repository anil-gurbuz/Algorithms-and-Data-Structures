{
 "cells": [
  {
   "cell_type": "code",
   "execution_count": 28,
   "metadata": {},
   "outputs": [],
   "source": [
    "class BinaryHeaps:\n",
    "    def __init__(self):\n",
    "        self.heaplist =[0]\n",
    "        self.size = 0\n",
    "    \n",
    "    def percup(self,i):\n",
    "        while i//2 > 0 :\n",
    "            if self.heaplist[i] < self.heaplist[i//2]:\n",
    "                self.heaplist[i//2] , self.heaplist[i] = self.heaplist[i] , self.heaplist[i//2]\n",
    "            i = i//2\n",
    "        \n",
    "        \n",
    "    def insert(self,k):\n",
    "        self.heaplist.append(k)\n",
    "        self.size +=1\n",
    "        percup(self.size)\n",
    "    \n",
    "    \n",
    "    def minChild(self,i):\n",
    "        if 2*i == self.size:\n",
    "            return 2*i\n",
    "        if 2*i +1 <= self.size:\n",
    "            if self.heaplist[2*i] >= self.heaplist[2*i +1]:\n",
    "                return (2*i+1)\n",
    "            else:\n",
    "                return 2*i\n",
    "        \n",
    "    def percdown(self,i):\n",
    "        while 2*i <= self.size:\n",
    "            mc = self.minChild(i)\n",
    "            if self.heaplist[i] > self.heaplist[mc]:\n",
    "                self.heaplist[i] , self.heaplist[mc] = self.heaplist[mc] , self.heaplist[i]\n",
    "            i = mc\n",
    "            \n",
    "            \n",
    "            \n",
    "    def delMin(self):\n",
    "        retval=self.heaplist[1]\n",
    "        self.heaplist[1]=self.heaplist[self.size]\n",
    "        del self.heaplist[self.size]\n",
    "        self.size -= 1\n",
    "        self.percdown(1)\n",
    "        return retval\n",
    "    \n",
    "    def buildHeap(self,alist):\n",
    "        i = len(alist)//2\n",
    "        self.size = len(alist)\n",
    "        self.heaplist = [0] + alist\n",
    "        \n",
    "        while i>0:\n",
    "            self.percdown(i)\n",
    "            i-=1\n",
    "    \n",
    "    \n",
    "    \n",
    "    def percDownRecursively(self,i):\n",
    "        \n",
    "        if self.size >= (2*i):\n",
    "            mc= self.minChild(i)\n",
    "            if self.heaplist[mc] < self.heaplist[i]:\n",
    "                self.heaplist[i] , self.heaplist[mc] = self.heaplist[mc] , self.heaplist[i]\n",
    "                self.percDownRecursively(mc)\n",
    "                \n",
    "    \n",
    "    \n",
    "    def heapSort(self,l):\n",
    "        self.buildHeap(l)\n",
    "        a=[]\n",
    "        while self.size>0:\n",
    "            a.append(self.delMin())\n",
    "        l=a\n",
    "        return l\n",
    "        \n",
    "        \n",
    "            \n",
    "            \n",
    "            \n",
    "        \n",
    "        \n",
    "            \n",
    "            \n",
    "            \n",
    "            \n",
    "            \n",
    "            \n",
    "        "
   ]
  },
  {
   "cell_type": "code",
   "execution_count": 29,
   "metadata": {},
   "outputs": [],
   "source": [
    "def isbin(l):\n",
    "    n=len(l)-1\n",
    "    i=n//2\n",
    "    while i>0:\n",
    "        if 2*i+1 <= n:\n",
    "            if l[i] > l[2*i] or l[i] > l[2*i]:\n",
    "                return False\n",
    "        if 2*i == n:\n",
    "            if l[i]>l[2*i]:\n",
    "                return False\n",
    "        i -=1\n",
    "    \n",
    "    return True"
   ]
  },
  {
   "cell_type": "code",
   "execution_count": 30,
   "metadata": {},
   "outputs": [
    {
     "name": "stdout",
     "output_type": "stream",
     "text": [
      "False\n",
      "True\n",
      "True\n",
      "True\n"
     ]
    }
   ],
   "source": [
    "print(isbin([0, 10, 14, 8, 7, 16, 9, 2, 4, 1]))\n",
    "print(isbin([0, 1, 2, 4, 7, 8, 9, 10, 14, 16]))\n",
    "print(isbin([0, 1, 4, 2, 7, 8, 9, 10, 14, 16]))\n",
    "print(isbin([0, 1, 2, 7, 8, 4, 9, 10, 14, 16]))"
   ]
  },
  {
   "cell_type": "code",
   "execution_count": 31,
   "metadata": {},
   "outputs": [],
   "source": [
    "a=BinaryHeaps()\n",
    "a.buildHeap([123,13,8,16,10,14,7,9,3,2,4,5])"
   ]
  },
  {
   "cell_type": "code",
   "execution_count": 32,
   "metadata": {},
   "outputs": [
    {
     "name": "stdout",
     "output_type": "stream",
     "text": [
      "<__main__.BinaryHeaps object at 0x103eb7828>\n"
     ]
    }
   ],
   "source": [
    "print(a)"
   ]
  },
  {
   "cell_type": "code",
   "execution_count": 33,
   "metadata": {},
   "outputs": [
    {
     "data": {
      "text/plain": [
       "[0, 2, 3, 5, 9, 4, 8, 7, 123, 16, 10, 13, 14]"
      ]
     },
     "execution_count": 33,
     "metadata": {},
     "output_type": "execute_result"
    }
   ],
   "source": [
    "a.heaplist"
   ]
  },
  {
   "cell_type": "code",
   "execution_count": 34,
   "metadata": {},
   "outputs": [
    {
     "data": {
      "text/plain": [
       "[0, 2, 3, 4, 5, 7, 8, 9, 10, 13, 14, 16, 123]"
      ]
     },
     "execution_count": 34,
     "metadata": {},
     "output_type": "execute_result"
    }
   ],
   "source": [
    "a.heapSort([0, 2, 3, 5, 9, 4, 8, 7, 123, 16, 10, 13, 14])"
   ]
  },
  {
   "cell_type": "code",
   "execution_count": null,
   "metadata": {},
   "outputs": [],
   "source": []
  }
 ],
 "metadata": {
  "kernelspec": {
   "display_name": "Python 3",
   "language": "python",
   "name": "python3"
  },
  "language_info": {
   "codemirror_mode": {
    "name": "ipython",
    "version": 3
   },
   "file_extension": ".py",
   "mimetype": "text/x-python",
   "name": "python",
   "nbconvert_exporter": "python",
   "pygments_lexer": "ipython3",
   "version": "3.6.4"
  }
 },
 "nbformat": 4,
 "nbformat_minor": 2
}
